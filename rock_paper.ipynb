{
  "nbformat": 4,
  "nbformat_minor": 0,
  "metadata": {
    "colab": {
      "provenance": [],
      "authorship_tag": "ABX9TyMkHa0QOLEC0YyLOWGx1INv",
      "include_colab_link": true
    },
    "kernelspec": {
      "name": "python3",
      "display_name": "Python 3"
    },
    "language_info": {
      "name": "python"
    }
  },
  "cells": [
    {
      "cell_type": "markdown",
      "metadata": {
        "id": "view-in-github",
        "colab_type": "text"
      },
      "source": [
        "<a href=\"https://colab.research.google.com/github/aleeyshabatool/aleeyshabatool/blob/main/rock_paper.ipynb\" target=\"_parent\"><img src=\"https://colab.research.google.com/assets/colab-badge.svg\" alt=\"Open In Colab\"/></a>"
      ]
    },
    {
      "cell_type": "code",
      "execution_count": null,
      "metadata": {
        "colab": {
          "base_uri": "https://localhost:8080/"
        },
        "id": "vPtFoMqBAG1-",
        "outputId": "f53bfca8-2e03-4e7c-f0ca-d861b47c9244"
      },
      "outputs": [
        {
          "output_type": "stream",
          "name": "stdout",
          "text": [
            "Enter your choice (rock, paper, scissors): Scissors\n",
            "You chose: scissors\n",
            "Computer chose: paper\n",
            "You win!\n"
          ]
        }
      ],
      "source": [
        "import random\n",
        "\n",
        "def play_game():\n",
        "\n",
        "  # Let's play Rock, Paper, Scissors game.\n",
        "\n",
        "\n",
        "  user_choice = input(\"Enter your choice (rock, paper, scissors): \").lower()\n",
        "  computer_choice = random.choice([\"rock\", \"paper\", \"scissors\"])\n",
        "\n",
        "  print(f\"You chose: {user_choice}\")\n",
        "  print(f\"Computer chose: {computer_choice}\")\n",
        "\n",
        "  if user_choice == computer_choice:\n",
        "    print(\"It's a tie!\")\n",
        "  elif user_choice == \"rock\":\n",
        "    if computer_choice == \"scissors\":\n",
        "      print(\"You win!\")\n",
        "    else:\n",
        "      print(\"Computer wins!\")\n",
        "  elif user_choice == \"paper\":\n",
        "    if computer_choice == \"rock\":\n",
        "      print(\"You win!\")\n",
        "    else:\n",
        "      print(\"Computer wins!\")\n",
        "  elif user_choice == \"scissors\":\n",
        "    if computer_choice == \"paper\":\n",
        "      print(\"You win!\")\n",
        "    else:\n",
        "      print(\"Computer wins!\")\n",
        "  else:\n",
        "    print(\"Invalid input. Please enter 'rock', 'paper', or 'scissors'.\")\n",
        "\n",
        "if __name__ == \"__main__\":\n",
        "  play_game()"
      ]
    }
  ]
}