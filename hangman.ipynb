{
  "nbformat": 4,
  "nbformat_minor": 0,
  "metadata": {
    "colab": {
      "provenance": [],
      "authorship_tag": "ABX9TyPjchFt2YqOamse/yzQTZ0h",
      "include_colab_link": true
    },
    "kernelspec": {
      "name": "python3",
      "display_name": "Python 3"
    },
    "language_info": {
      "name": "python"
    }
  },
  "cells": [
    {
      "cell_type": "markdown",
      "metadata": {
        "id": "view-in-github",
        "colab_type": "text"
      },
      "source": [
        "<a href=\"https://colab.research.google.com/github/aleeyshabatool/aleeyshabatool/blob/main/hangman.ipynb\" target=\"_parent\"><img src=\"https://colab.research.google.com/assets/colab-badge.svg\" alt=\"Open In Colab\"/></a>"
      ]
    },
    {
      "cell_type": "code",
      "source": [
        "import random\n",
        "\n",
        "def hangman():\n",
        "  \"\"\"\n",
        "  This function implements the Hangman game.\n",
        "  \"\"\"\n",
        "\n",
        "  word_list = [\"python\", \"java\", \"javascript\", \"c++\", \"c#\"]\n",
        "  word = random.choice(word_list)\n",
        "\n",
        "  guessed_letters = []\n",
        "  wrong_guesses = 0\n",
        "\n",
        "  while wrong_guesses < 6 and len(set(guessed_letters)) < len(word):\n",
        "    print(\"\\nCurrent word:\")\n",
        "    for letter in word:\n",
        "      if letter in guessed_letters:\n",
        "        print(letter, end=\" \")\n",
        "      else:\n",
        "        print(\"_\", end=\" \")\n",
        "\n",
        "    guess = input(\"\\nGuess a letter: \").lower()\n",
        "\n",
        "    if guess in word:\n",
        "      guessed_letters.append(guess)\n",
        "    else:\n",
        "      wrong_guesses += 1\n",
        "      print(\"Wrong guess!\")\n",
        "\n",
        "    print(f\"\\nWrong guesses remaining: {6 - wrong_guesses}\")\n",
        "\n",
        "  if wrong_guesses == 6:\n",
        "    print(\"\\nYou lose! The word was:\", word)\n",
        "  else:\n",
        "    print(\"\\nYou win!\")\n",
        "\n",
        "# Change _name_ to __name__\n",
        "if __name__ == \"__main__\":\n",
        "  hangman()"
      ],
      "metadata": {
        "colab": {
          "base_uri": "https://localhost:8080/"
        },
        "id": "RqiGQO3gJhK7",
        "outputId": "c8a5996e-e047-4f95-a63d-a356dbb2874e"
      },
      "execution_count": null,
      "outputs": [
        {
          "output_type": "stream",
          "name": "stdout",
          "text": [
            "\n",
            "Current word:\n",
            "_ _ _ _ _ _ \n",
            "Guess a letter: a\n",
            "Wrong guess!\n",
            "\n",
            "Wrong guesses remaining: 5\n",
            "\n",
            "Current word:\n",
            "_ _ _ _ _ _ \n",
            "Guess a letter: y\n",
            "\n",
            "Wrong guesses remaining: 5\n",
            "\n",
            "Current word:\n",
            "_ y _ _ _ _ \n",
            "Guess a letter: t\n",
            "\n",
            "Wrong guesses remaining: 5\n",
            "\n",
            "Current word:\n",
            "_ y t _ _ _ \n",
            "Guess a letter: o\n",
            "\n",
            "Wrong guesses remaining: 5\n",
            "\n",
            "Current word:\n",
            "_ y t _ o _ \n",
            "Guess a letter: p\n",
            "\n",
            "Wrong guesses remaining: 5\n",
            "\n",
            "Current word:\n",
            "p y t _ o _ \n",
            "Guess a letter: h\n",
            "\n",
            "Wrong guesses remaining: 5\n",
            "\n",
            "Current word:\n",
            "p y t h o _ \n",
            "Guess a letter: n\n",
            "\n",
            "Wrong guesses remaining: 5\n",
            "\n",
            "You win!\n"
          ]
        }
      ]
    }
  ]
}