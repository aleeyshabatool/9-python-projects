{
  "nbformat": 4,
  "nbformat_minor": 0,
  "metadata": {
    "colab": {
      "provenance": [],
      "authorship_tag": "ABX9TyMKnub67axLD7oFYovamjaH",
      "include_colab_link": true
    },
    "kernelspec": {
      "name": "python3",
      "display_name": "Python 3"
    },
    "language_info": {
      "name": "python"
    }
  },
  "cells": [
    {
      "cell_type": "markdown",
      "metadata": {
        "id": "view-in-github",
        "colab_type": "text"
      },
      "source": [
        "<a href=\"https://colab.research.google.com/github/aleeyshabatool/aleeyshabatool/blob/main/calculator_bmi_streamlit.ipynb\" target=\"_parent\"><img src=\"https://colab.research.google.com/assets/colab-badge.svg\" alt=\"Open In Colab\"/></a>"
      ]
    },
    {
      "cell_type": "code",
      "execution_count": 4,
      "metadata": {
        "colab": {
          "base_uri": "https://localhost:8080/"
        },
        "id": "Kqr0tIJo-QUa",
        "outputId": "808c0bf3-f60e-4acf-a070-30c32b775f78"
      },
      "outputs": [
        {
          "output_type": "stream",
          "name": "stdout",
          "text": [
            "\u001b[2K     \u001b[90m━━━━━━━━━━━━━━━━━━━━━━━━━━━━━━━━━━━━━━━━\u001b[0m \u001b[32m44.3/44.3 kB\u001b[0m \u001b[31m1.8 MB/s\u001b[0m eta \u001b[36m0:00:00\u001b[0m\n",
            "\u001b[2K   \u001b[90m━━━━━━━━━━━━━━━━━━━━━━━━━━━━━━━━━━━━━━━━\u001b[0m \u001b[32m9.1/9.1 MB\u001b[0m \u001b[31m57.7 MB/s\u001b[0m eta \u001b[36m0:00:00\u001b[0m\n",
            "\u001b[2K   \u001b[90m━━━━━━━━━━━━━━━━━━━━━━━━━━━━━━━━━━━━━━━━\u001b[0m \u001b[32m6.9/6.9 MB\u001b[0m \u001b[31m93.9 MB/s\u001b[0m eta \u001b[36m0:00:00\u001b[0m\n",
            "\u001b[2K   \u001b[90m━━━━━━━━━━━━━━━━━━━━━━━━━━━━━━━━━━━━━━━━\u001b[0m \u001b[32m79.1/79.1 kB\u001b[0m \u001b[31m5.9 MB/s\u001b[0m eta \u001b[36m0:00:00\u001b[0m\n",
            "\u001b[?25h"
          ]
        }
      ],
      "source": [
        "! pip install streamlit -q"
      ]
    },
    {
      "cell_type": "code",
      "source": [
        "!pip install pyngrok -q\n",
        "from pyngrok import ngrok\n",
        "\n",
        "# Replace with your ngrok token\n",
        "ngrok.set_auth_token(\"2qMGZxWumK4FWPs4aWFzTeqKx8a_88i9Ex5SDF3tptEfr1RQX\")"
      ],
      "metadata": {
        "id": "GhdMqzHXUvZF",
        "colab": {
          "base_uri": "https://localhost:8080/"
        },
        "outputId": "f05a1379-3a41-4e6a-aae9-c891e7f07b1a"
      },
      "execution_count": 5,
      "outputs": [
        {
          "output_type": "stream",
          "name": "stdout",
          "text": []
        }
      ]
    },
    {
      "cell_type": "code",
      "source": [
        "%%writefile app.py\n",
        "import streamlit as st\n",
        "\n",
        "st.title(\"BMI Calculator\")\n",
        "\n",
        "height = st.slider(\"Enter your height (in cm):\", 100, 250, 175)\n",
        "weight = st.slider(\"Enter your weight (in kg)\", 40, 200, 70)\n",
        "\n",
        "bmi = weight / ((height/100) ** 2)\n",
        "\n",
        "st.write(f\"Your BMI is {bmi:.2f}\")\n",
        "\n",
        "st.write(\"### BMI Categories ###\")\n",
        "st.write(\"- Underweight: BMI less than 18.5\")\n",
        "st.write(\"- Normal weight: BMI between 18.5 and 24.9\")\n",
        "st.write(\"- Overweight: BMI between 25 and 29.9\")\n",
        "st.write(\"- Obesity: BMI 30 or greater\")"
      ],
      "metadata": {
        "colab": {
          "base_uri": "https://localhost:8080/"
        },
        "id": "MX0NSpOx-q9I",
        "outputId": "1dc15556-74aa-4f98-b178-c0b13cd17f4d"
      },
      "execution_count": 6,
      "outputs": [
        {
          "output_type": "stream",
          "name": "stdout",
          "text": [
            "Writing app.py\n"
          ]
        }
      ]
    },
    {
      "cell_type": "code",
      "source": [
        "# Start ngrok tunnel for Streamlit app\n",
        "public_url = ngrok.connect(8501).public_url\n",
        "print(f\"Streamlit app is live at: {public_url}\")"
      ],
      "metadata": {
        "id": "vs9oytqBVjvJ",
        "outputId": "551d719e-92db-42bd-c4dd-2816b0f604d1",
        "colab": {
          "base_uri": "https://localhost:8080/"
        }
      },
      "execution_count": 7,
      "outputs": [
        {
          "output_type": "stream",
          "name": "stdout",
          "text": [
            "Streamlit app is live at: https://d9f1-35-201-247-138.ngrok-free.app\n"
          ]
        }
      ]
    },
    {
      "cell_type": "code",
      "source": [
        "!streamlit run app.py &>/dev/null &"
      ],
      "metadata": {
        "id": "6HKtbpObVmaK"
      },
      "execution_count": 8,
      "outputs": []
    }
  ]
}