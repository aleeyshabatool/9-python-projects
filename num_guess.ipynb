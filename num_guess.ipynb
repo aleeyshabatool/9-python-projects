{
  "nbformat": 4,
  "nbformat_minor": 0,
  "metadata": {
    "colab": {
      "provenance": [],
      "authorship_tag": "ABX9TyM4WQNecW13POzxsfz4UhT0",
      "include_colab_link": true
    },
    "kernelspec": {
      "name": "python3",
      "display_name": "Python 3"
    },
    "language_info": {
      "name": "python"
    }
  },
  "cells": [
    {
      "cell_type": "markdown",
      "metadata": {
        "id": "view-in-github",
        "colab_type": "text"
      },
      "source": [
        "<a href=\"https://colab.research.google.com/github/aleeyshabatool/aleeyshabatool/blob/main/num_guess.ipynb\" target=\"_parent\"><img src=\"https://colab.research.google.com/assets/colab-badge.svg\" alt=\"Open In Colab\"/></a>"
      ]
    },
    {
      "cell_type": "code",
      "source": [
        "import random\n",
        "\n",
        "# Create a random number between 1 and 100\n",
        "secret_number = random.randint(1, 100)\n",
        "\n",
        "# Initialize variables for attempts and user input\n",
        "attempts = 0\n",
        "guess = None\n",
        "\n",
        "# Start the game\n",
        "print(\"Welcome to Guess the Number Game!\")\n",
        "print(\"There's a number between 1 and 100. Can you guess it?\")\n",
        "\n",
        "# Loop until the correct number will guess\n",
        "while guess != secret_number:\n",
        "    # Get the user's guess\n",
        "    guess = int(input(\"Enter your guess: \"))\n",
        "\n",
        "    # if the guess is correct\n",
        "    if guess > secret_number:\n",
        "        print(\"Your guess is too high. Try lower.\")\n",
        "    elif guess < secret_number:\n",
        "        print(\"Your guess is too low. Try higher.\")\n",
        "    else:\n",
        "        print(f\"Congratulations! You guessed the number in {attempts} attempts.\")\n",
        "        break\n",
        "\n",
        "    # Increment the attempt counter\n",
        "    attempts += 1\n",
        "\n",
        "# If the number didn't guess in 10 attempts, reveal the secret number\n",
        "if guess != secret_number:\n",
        "    print(f\"Sorry, you didn't guess it. The secret number was {secret_number}.\")"
      ],
      "metadata": {
        "colab": {
          "base_uri": "https://localhost:8080/"
        },
        "id": "W6gG583M4_FQ",
        "outputId": "863d88b7-50aa-43e3-aefe-86624b93f8f8"
      },
      "execution_count": null,
      "outputs": [
        {
          "output_type": "stream",
          "name": "stdout",
          "text": [
            "Welcome to Guess the Number Game!\n",
            "There's a number between 1 and 100. Can you guess it?\n",
            "Enter your guess: 100\n",
            "Your guess is too high. Try lower.\n",
            "Enter your guess: 90\n",
            "Your guess is too high. Try lower.\n",
            "Enter your guess: 50\n",
            "Your guess is too high. Try lower.\n",
            "Enter your guess: 30\n",
            "Your guess is too low. Try higher.\n",
            "Enter your guess: 25\n",
            "Your guess is too low. Try higher.\n",
            "Enter your guess: 28\n",
            "Your guess is too low. Try higher.\n",
            "Enter your guess: 29\n",
            "Your guess is too low. Try higher.\n",
            "Enter your guess: 30\n",
            "Your guess is too low. Try higher.\n",
            "Enter your guess: 35\n",
            "Your guess is too high. Try lower.\n",
            "Enter your guess: 32\n",
            "Your guess is too low. Try higher.\n",
            "Enter your guess: 33\n",
            "Your guess is too low. Try higher.\n",
            "Enter your guess: 34\n",
            "Congratulations! You guessed the number in 11 attempts.\n"
          ]
        }
      ]
    }
  ]
}