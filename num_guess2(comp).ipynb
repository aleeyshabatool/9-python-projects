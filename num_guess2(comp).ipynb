{
  "nbformat": 4,
  "nbformat_minor": 0,
  "metadata": {
    "colab": {
      "provenance": [],
      "authorship_tag": "ABX9TyM1VTXj6k6LCPflrysU3Dnk",
      "include_colab_link": true
    },
    "kernelspec": {
      "name": "python3",
      "display_name": "Python 3"
    },
    "language_info": {
      "name": "python"
    }
  },
  "cells": [
    {
      "cell_type": "markdown",
      "metadata": {
        "id": "view-in-github",
        "colab_type": "text"
      },
      "source": [
        "<a href=\"https://colab.research.google.com/github/aleeyshabatool/aleeyshabatool/blob/main/num_guess2(comp).ipynb\" target=\"_parent\"><img src=\"https://colab.research.google.com/assets/colab-badge.svg\" alt=\"Open In Colab\"/></a>"
      ]
    },
    {
      "cell_type": "code",
      "source": [
        "import random\n",
        "\n",
        "def guess_the_number():\n",
        "  \"\"\"\n",
        "  This function implements the Guess the Number game where the user thinks of a number and the computer guesses.\n",
        "  \"\"\"\n",
        "\n",
        "  print(\"Think of a number between 1 and 100.\")\n",
        "\n",
        "  low = 1\n",
        "  high = 100\n",
        "\n",
        "  while True:\n",
        "    guess = random.randint(low, high)\n",
        "    print(f\"Is your number {guess}?\")\n",
        "\n",
        "    response = input(\"Enter 'h' if your number is higher, 'l' if it's lower, or 'c' if it's correct: \")\n",
        "\n",
        "    if response == 'h':\n",
        "      low = guess + 1\n",
        "    elif response == 'l':\n",
        "      high = guess - 1\n",
        "    elif response == 'c':\n",
        "      print(\"I guessed it!\")\n",
        "      break\n",
        "    else:\n",
        "      print(\"Invalid input. Please enter 'h', 'l', or 'c'.\")\n",
        "\n",
        "if __name__ == \"__main__\":\n",
        "  guess_the_number()"
      ],
      "metadata": {
        "id": "5br0nt4UADT1",
        "colab": {
          "base_uri": "https://localhost:8080/"
        },
        "outputId": "905713c5-2c3e-4b99-ee95-553aa33fd269"
      },
      "execution_count": 4,
      "outputs": [
        {
          "output_type": "stream",
          "name": "stdout",
          "text": [
            "Think of a number between 1 and 100.\n",
            "Is your number 18?\n",
            "Enter 'h' if your number is higher, 'l' if it's lower, or 'c' if it's correct: h\n",
            "Is your number 53?\n",
            "Enter 'h' if your number is higher, 'l' if it's lower, or 'c' if it's correct: h\n",
            "Is your number 55?\n",
            "Enter 'h' if your number is higher, 'l' if it's lower, or 'c' if it's correct: h\n",
            "Is your number 99?\n",
            "Enter 'h' if your number is higher, 'l' if it's lower, or 'c' if it's correct: l\n",
            "Is your number 78?\n",
            "Enter 'h' if your number is higher, 'l' if it's lower, or 'c' if it's correct: l\n",
            "Is your number 75?\n",
            "Enter 'h' if your number is higher, 'l' if it's lower, or 'c' if it's correct: l\n",
            "Is your number 66?\n",
            "Enter 'h' if your number is higher, 'l' if it's lower, or 'c' if it's correct: l\n",
            "Is your number 59?\n",
            "Enter 'h' if your number is higher, 'l' if it's lower, or 'c' if it's correct: h\n",
            "Is your number 62?\n",
            "Enter 'h' if your number is higher, 'l' if it's lower, or 'c' if it's correct: l\n",
            "Is your number 61?\n",
            "Enter 'h' if your number is higher, 'l' if it's lower, or 'c' if it's correct: l\n",
            "Is your number 60?\n",
            "Enter 'h' if your number is higher, 'l' if it's lower, or 'c' if it's correct: c\n",
            "I guessed it!\n"
          ]
        }
      ]
    }
  ]
}