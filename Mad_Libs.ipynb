{
  "nbformat": 4,
  "nbformat_minor": 0,
  "metadata": {
    "colab": {
      "provenance": [],
      "authorship_tag": "ABX9TyMia1VsNwhONXfvUcV5a7Jf",
      "include_colab_link": true
    },
    "kernelspec": {
      "name": "python3",
      "display_name": "Python 3"
    },
    "language_info": {
      "name": "python"
    }
  },
  "cells": [
    {
      "cell_type": "markdown",
      "metadata": {
        "id": "view-in-github",
        "colab_type": "text"
      },
      "source": [
        "<a href=\"https://colab.research.google.com/github/aleeyshabatool/aleeyshabatool/blob/main/Mad_Libs.ipynb\" target=\"_parent\"><img src=\"https://colab.research.google.com/assets/colab-badge.svg\" alt=\"Open In Colab\"/></a>"
      ]
    },
    {
      "cell_type": "code",
      "source": [
        "# Take input from user\n",
        "name = input(\"Enter a name: \")\n",
        "day = input(\"Enter a day of the week: \")\n",
        "flower = input(\"Enter the flower name: \")\n",
        "color = input(\"Enter the color: \")\n",
        "country = input(\"Enter the country name: \")\n",
        "adjective = input(\"Enter the adjective: \")\n",
        "food = input(\"Enter the food name: \")\n",
        "animal = input(\"Enter the animal: \")\n",
        "\n",
        "\n",
        "#story\n",
        "print(\"\\n The mad libs game story...!\")\n",
        "print(f\"On a crisp {day} morning in {country}, \")\n",
        "print(f\"{name} strolled through a field of {flower}. \")\n",
        "print(f\"The soft {color} blooms filled the air with a sweet fragnance. \")\n",
        "print(f\"A {adjective} breeze carried the scent, a remainder of the beauty of nature.\")\n",
        "print(f\"A beautiful white {animal} slept there.\")\n",
        "print(f\"Rest of the time, he spent with eating {food} and enjoying nature,\")\n"
      ],
      "metadata": {
        "colab": {
          "base_uri": "https://localhost:8080/"
        },
        "id": "JCtu304lyb2_",
        "outputId": "1abce2b2-37b0-4f60-8a69-3c6606691f25"
      },
      "execution_count": null,
      "outputs": [
        {
          "output_type": "stream",
          "name": "stdout",
          "text": [
            "Enter a name: Ahad\n",
            "Enter a day of the week: Thursday\n",
            "Enter the flower name: Lily\n",
            "Enter the color: Pink\n",
            "Enter the country name: Paris\n",
            "Enter the adjective: Gentle\n",
            "Enter the food name: Sandwiches\n",
            "Enter the animal: Cat\n",
            "\n",
            " The mad libs game story...!\n",
            "On a crisp Thursday morning in Paris, \n",
            "Ahad strolled through a field of Lily. \n",
            "The soft Pink blooms filled the air with a sweet fragnance. \n",
            "A Gentle breeze carried the scent, a remainder of the beauty of nature.\n",
            "A beautiful white Cat slept there.\n",
            "Rest of the time, he spent with eating Sandwiches and enjoying nature,\n"
          ]
        }
      ]
    }
  ]
}